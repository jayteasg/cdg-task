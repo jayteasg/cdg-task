{
 "cells": [
  {
   "cell_type": "code",
   "execution_count": 1,
   "metadata": {
    "ExecuteTime": {
     "end_time": "2021-05-24T10:26:37.995717Z",
     "start_time": "2021-05-24T10:26:37.516248Z"
    }
   },
   "outputs": [],
   "source": [
    "import pandas as pd\n",
    "import numpy as np\n",
    "from datetime import datetime, timedelta"
   ]
  },
  {
   "cell_type": "code",
   "execution_count": 2,
   "metadata": {
    "ExecuteTime": {
     "end_time": "2021-05-24T10:26:38.187309Z",
     "start_time": "2021-05-24T10:26:37.998655Z"
    }
   },
   "outputs": [],
   "source": [
    "data = pd.read_excel(\"Bus-trips-data-sample.xlsx\")"
   ]
  },
  {
   "cell_type": "code",
   "execution_count": 3,
   "metadata": {
    "ExecuteTime": {
     "end_time": "2021-05-24T10:26:38.219233Z",
     "start_time": "2021-05-24T10:26:38.189214Z"
    }
   },
   "outputs": [
    {
     "data": {
      "text/html": [
       "<div>\n",
       "<style scoped>\n",
       "    .dataframe tbody tr th:only-of-type {\n",
       "        vertical-align: middle;\n",
       "    }\n",
       "\n",
       "    .dataframe tbody tr th {\n",
       "        vertical-align: top;\n",
       "    }\n",
       "\n",
       "    .dataframe thead th {\n",
       "        text-align: right;\n",
       "    }\n",
       "</style>\n",
       "<table border=\"1\" class=\"dataframe\">\n",
       "  <thead>\n",
       "    <tr style=\"text-align: right;\">\n",
       "      <th></th>\n",
       "      <th>Booking ID</th>\n",
       "      <th>Journey Date</th>\n",
       "      <th>Pickup Time</th>\n",
       "      <th>Dropoff Time</th>\n",
       "      <th>Booking Status</th>\n",
       "      <th>Pickup Address from Google Map</th>\n",
       "      <th>Destination Address from Google Map</th>\n",
       "    </tr>\n",
       "  </thead>\n",
       "  <tbody>\n",
       "    <tr>\n",
       "      <th>0</th>\n",
       "      <td>AD-674</td>\n",
       "      <td>01 Mar 2021</td>\n",
       "      <td>--:--</td>\n",
       "      <td>05:30 AM</td>\n",
       "      <td>Cancelled</td>\n",
       "      <td>122A Sengkang E Way, Singapore 541122</td>\n",
       "      <td>Beach Station, Singapore</td>\n",
       "    </tr>\n",
       "    <tr>\n",
       "      <th>1</th>\n",
       "      <td>AD-840</td>\n",
       "      <td>01 Mar 2021</td>\n",
       "      <td>--:--</td>\n",
       "      <td>05:30 AM</td>\n",
       "      <td>Cancelled</td>\n",
       "      <td>122A Sengkang E Way, Singapore 541122</td>\n",
       "      <td>Beach Station, Singapore</td>\n",
       "    </tr>\n",
       "    <tr>\n",
       "      <th>2</th>\n",
       "      <td>AD-1136</td>\n",
       "      <td>01 Mar 2021</td>\n",
       "      <td>04:28 AM</td>\n",
       "      <td>05:30 AM</td>\n",
       "      <td>Confirmed</td>\n",
       "      <td>357A Admiralty Dr, Block 357A, Singapore 751357</td>\n",
       "      <td>Beach Station, Singapore</td>\n",
       "    </tr>\n",
       "    <tr>\n",
       "      <th>3</th>\n",
       "      <td>AD-1146</td>\n",
       "      <td>01 Mar 2021</td>\n",
       "      <td>--:--</td>\n",
       "      <td>05:30 AM</td>\n",
       "      <td>Cancelled</td>\n",
       "      <td>233 Jurong East Street 21, Block 233, Singapor...</td>\n",
       "      <td>Beach Station, Singapore</td>\n",
       "    </tr>\n",
       "    <tr>\n",
       "      <th>4</th>\n",
       "      <td>AD-1175</td>\n",
       "      <td>01 Mar 2021</td>\n",
       "      <td>--:--</td>\n",
       "      <td>05:30 AM</td>\n",
       "      <td>Cancelled</td>\n",
       "      <td>233 Jurong East Street 21, Block 233, Singapor...</td>\n",
       "      <td>Beach Station, Singapore</td>\n",
       "    </tr>\n",
       "  </tbody>\n",
       "</table>\n",
       "</div>"
      ],
      "text/plain": [
       "  Booking ID Journey Date Pickup Time Dropoff Time Booking Status  \\\n",
       "0     AD-674  01 Mar 2021       --:--     05:30 AM      Cancelled   \n",
       "1     AD-840  01 Mar 2021       --:--     05:30 AM      Cancelled   \n",
       "2    AD-1136  01 Mar 2021    04:28 AM     05:30 AM      Confirmed   \n",
       "3    AD-1146  01 Mar 2021       --:--     05:30 AM      Cancelled   \n",
       "4    AD-1175  01 Mar 2021       --:--     05:30 AM      Cancelled   \n",
       "\n",
       "                      Pickup Address from Google Map  \\\n",
       "0              122A Sengkang E Way, Singapore 541122   \n",
       "1              122A Sengkang E Way, Singapore 541122   \n",
       "2    357A Admiralty Dr, Block 357A, Singapore 751357   \n",
       "3  233 Jurong East Street 21, Block 233, Singapor...   \n",
       "4  233 Jurong East Street 21, Block 233, Singapor...   \n",
       "\n",
       "  Destination Address from Google Map  \n",
       "0            Beach Station, Singapore  \n",
       "1            Beach Station, Singapore  \n",
       "2            Beach Station, Singapore  \n",
       "3            Beach Station, Singapore  \n",
       "4            Beach Station, Singapore  "
      ]
     },
     "execution_count": 3,
     "metadata": {},
     "output_type": "execute_result"
    }
   ],
   "source": [
    "data.head()"
   ]
  },
  {
   "cell_type": "code",
   "execution_count": 4,
   "metadata": {
    "ExecuteTime": {
     "end_time": "2021-05-24T10:26:38.235233Z",
     "start_time": "2021-05-24T10:26:38.222212Z"
    }
   },
   "outputs": [
    {
     "data": {
      "text/plain": [
       "1277"
      ]
     },
     "execution_count": 4,
     "metadata": {},
     "output_type": "execute_result"
    }
   ],
   "source": [
    "data.shape[0]"
   ]
  },
  {
   "cell_type": "code",
   "execution_count": 5,
   "metadata": {
    "ExecuteTime": {
     "end_time": "2021-05-24T10:26:38.251203Z",
     "start_time": "2021-05-24T10:26:38.237202Z"
    }
   },
   "outputs": [
    {
     "data": {
      "text/plain": [
       "Booking ID                             object\n",
       "Journey Date                           object\n",
       "Pickup Time                            object\n",
       "Dropoff Time                           object\n",
       "Booking Status                         object\n",
       "Pickup Address from Google Map         object\n",
       "Destination Address from Google Map    object\n",
       "dtype: object"
      ]
     },
     "execution_count": 5,
     "metadata": {},
     "output_type": "execute_result"
    }
   ],
   "source": [
    "# check data types\n",
    "data.dtypes"
   ]
  },
  {
   "cell_type": "code",
   "execution_count": 6,
   "metadata": {
    "ExecuteTime": {
     "end_time": "2021-05-24T10:26:38.283235Z",
     "start_time": "2021-05-24T10:26:38.253218Z"
    }
   },
   "outputs": [],
   "source": [
    "# Convert Journey Date, Pickup and Dropoff time to datetime format\n",
    "data['Pickup Time'] = pd.to_datetime(data['Pickup Time'], format='%H:%M %p', errors='coerce')\n",
    "data['Dropoff Time'] = pd.to_datetime(data['Dropoff Time'], format='%H:%M %p', errors='coerce')\n",
    "data['Journey Date'] = pd.to_datetime(data['Journey Date'], format='%d %b %Y')"
   ]
  },
  {
   "cell_type": "code",
   "execution_count": 7,
   "metadata": {
    "ExecuteTime": {
     "end_time": "2021-05-24T10:26:38.299333Z",
     "start_time": "2021-05-24T10:26:38.286201Z"
    }
   },
   "outputs": [
    {
     "data": {
      "text/plain": [
       "Booking ID                               0\n",
       "Journey Date                             0\n",
       "Pickup Time                            527\n",
       "Dropoff Time                           182\n",
       "Booking Status                           0\n",
       "Pickup Address from Google Map           0\n",
       "Destination Address from Google Map      0\n",
       "dtype: int64"
      ]
     },
     "execution_count": 7,
     "metadata": {},
     "output_type": "execute_result"
    }
   ],
   "source": [
    "# Any null values \n",
    "data.isnull().sum()"
   ]
  },
  {
   "cell_type": "markdown",
   "metadata": {},
   "source": [
    "**Drop rows with missing 'Pickup Time' and 'Dropoff Time'.**"
   ]
  },
  {
   "cell_type": "code",
   "execution_count": 8,
   "metadata": {
    "ExecuteTime": {
     "end_time": "2021-05-24T10:26:38.330291Z",
     "start_time": "2021-05-24T10:26:38.302209Z"
    }
   },
   "outputs": [],
   "source": [
    "data.dropna(inplace=True)"
   ]
  },
  {
   "cell_type": "code",
   "execution_count": 9,
   "metadata": {
    "ExecuteTime": {
     "end_time": "2021-05-24T10:26:38.346257Z",
     "start_time": "2021-05-24T10:26:38.332255Z"
    }
   },
   "outputs": [
    {
     "data": {
      "text/plain": [
       "568"
      ]
     },
     "execution_count": 9,
     "metadata": {},
     "output_type": "execute_result"
    }
   ],
   "source": [
    "data.shape[0]"
   ]
  },
  {
   "cell_type": "markdown",
   "metadata": {},
   "source": [
    "**568 rows of data for final processing.**"
   ]
  },
  {
   "cell_type": "markdown",
   "metadata": {},
   "source": [
    "### Create Pickup Timeslot Feature\n",
    "Each booking is assumed for up to 10 pax, thus requiring a 10 seater bus. For multiple bookings for the same trip within the same 15 minute brackets, bigger buses like 19 and 40 seaters can be despatched to fullfill these bookings."
   ]
  },
  {
   "cell_type": "code",
   "execution_count": 10,
   "metadata": {
    "ExecuteTime": {
     "end_time": "2021-05-24T10:26:38.362288Z",
     "start_time": "2021-05-24T10:26:38.349257Z"
    }
   },
   "outputs": [],
   "source": [
    "def conv_time(ts):\n",
    "    '''\n",
    "    This function converts a string into timedelta format and returns it\n",
    "    '''\n",
    "    return datetime.strptime(ts, \"%H:%M:%S\")"
   ]
  },
  {
   "cell_type": "code",
   "execution_count": 11,
   "metadata": {
    "ExecuteTime": {
     "end_time": "2021-05-24T10:26:38.378287Z",
     "start_time": "2021-05-24T10:26:38.365257Z"
    }
   },
   "outputs": [],
   "source": [
    "# Define the 15 minute pickup time slots.\n",
    "cut_labels = ['0:15AM','0:30AM','0:45AM','4:00AM', '4:15AM', '4:30AM', '4:45AM', '5:00AM', '5:15AM', '5:30AM', '5:45AM']\n",
    "cut_bins = [conv_time(\"00:00:00\"), conv_time(\"00:15:00\"), conv_time(\"00:30:00\"), conv_time(\"00:45:00\"), \n",
    "            conv_time(\"04:00:00\"), conv_time(\"04:15:00\"), conv_time(\"04:30:00\"), conv_time(\"04:45:00\"),\n",
    "            conv_time(\"05:00:00\"), conv_time(\"05:15:00\"), conv_time(\"05:30:00\"), conv_time(\"05:45:00\")]\n",
    "data['Pickup Time Slot'] = pd.cut(data['Pickup Time'], bins=cut_bins, labels=cut_labels)"
   ]
  },
  {
   "cell_type": "code",
   "execution_count": 13,
   "metadata": {
    "ExecuteTime": {
     "end_time": "2021-05-24T10:27:09.716782Z",
     "start_time": "2021-05-24T10:27:09.698749Z"
    }
   },
   "outputs": [
    {
     "data": {
      "text/html": [
       "<div>\n",
       "<style scoped>\n",
       "    .dataframe tbody tr th:only-of-type {\n",
       "        vertical-align: middle;\n",
       "    }\n",
       "\n",
       "    .dataframe tbody tr th {\n",
       "        vertical-align: top;\n",
       "    }\n",
       "\n",
       "    .dataframe thead th {\n",
       "        text-align: right;\n",
       "    }\n",
       "</style>\n",
       "<table border=\"1\" class=\"dataframe\">\n",
       "  <thead>\n",
       "    <tr style=\"text-align: right;\">\n",
       "      <th></th>\n",
       "      <th>Booking ID</th>\n",
       "      <th>Pickup Time Slot</th>\n",
       "    </tr>\n",
       "  </thead>\n",
       "  <tbody>\n",
       "    <tr>\n",
       "      <th>942</th>\n",
       "      <td>AD-1730</td>\n",
       "      <td>0:15AM</td>\n",
       "    </tr>\n",
       "    <tr>\n",
       "      <th>1069</th>\n",
       "      <td>AD-1781</td>\n",
       "      <td>0:15AM</td>\n",
       "    </tr>\n",
       "    <tr>\n",
       "      <th>685</th>\n",
       "      <td>AD-1611</td>\n",
       "      <td>0:15AM</td>\n",
       "    </tr>\n",
       "    <tr>\n",
       "      <th>513</th>\n",
       "      <td>AD-1534</td>\n",
       "      <td>0:15AM</td>\n",
       "    </tr>\n",
       "    <tr>\n",
       "      <th>686</th>\n",
       "      <td>AD-1606</td>\n",
       "      <td>0:15AM</td>\n",
       "    </tr>\n",
       "    <tr>\n",
       "      <th>...</th>\n",
       "      <td>...</td>\n",
       "      <td>...</td>\n",
       "    </tr>\n",
       "    <tr>\n",
       "      <th>909</th>\n",
       "      <td>AD-1675</td>\n",
       "      <td>NaN</td>\n",
       "    </tr>\n",
       "    <tr>\n",
       "      <th>949</th>\n",
       "      <td>AD-1676</td>\n",
       "      <td>NaN</td>\n",
       "    </tr>\n",
       "    <tr>\n",
       "      <th>994</th>\n",
       "      <td>AD-1677</td>\n",
       "      <td>NaN</td>\n",
       "    </tr>\n",
       "    <tr>\n",
       "      <th>1141</th>\n",
       "      <td>AD-1881</td>\n",
       "      <td>NaN</td>\n",
       "    </tr>\n",
       "    <tr>\n",
       "      <th>1164</th>\n",
       "      <td>AD-1882</td>\n",
       "      <td>NaN</td>\n",
       "    </tr>\n",
       "  </tbody>\n",
       "</table>\n",
       "<p>568 rows × 2 columns</p>\n",
       "</div>"
      ],
      "text/plain": [
       "     Booking ID Pickup Time Slot\n",
       "942     AD-1730           0:15AM\n",
       "1069    AD-1781           0:15AM\n",
       "685     AD-1611           0:15AM\n",
       "513     AD-1534           0:15AM\n",
       "686     AD-1606           0:15AM\n",
       "...         ...              ...\n",
       "909     AD-1675              NaN\n",
       "949     AD-1676              NaN\n",
       "994     AD-1677              NaN\n",
       "1141    AD-1881              NaN\n",
       "1164    AD-1882              NaN\n",
       "\n",
       "[568 rows x 2 columns]"
      ]
     },
     "execution_count": 13,
     "metadata": {},
     "output_type": "execute_result"
    }
   ],
   "source": [
    "data[['Booking ID', 'Pickup Time Slot']].sort_values('Pickup Time Slot', ascending=True)"
   ]
  },
  {
   "cell_type": "markdown",
   "metadata": {},
   "source": [
    "**Bookings with the same journey and under the same 'Pickup Time Slot' can be combined so a bigger bus can be allocated.**"
   ]
  },
  {
   "cell_type": "markdown",
   "metadata": {},
   "source": [
    "### Create Duration feature\n",
    "Calculate the duration for each trip."
   ]
  },
  {
   "cell_type": "code",
   "execution_count": 14,
   "metadata": {
    "ExecuteTime": {
     "end_time": "2021-05-24T10:27:39.354118Z",
     "start_time": "2021-05-24T10:27:39.339121Z"
    }
   },
   "outputs": [],
   "source": [
    "# create duration feature\n",
    "data['Duration'] = (data['Dropoff Time'] - data['Pickup Time']).dt.seconds/60"
   ]
  },
  {
   "cell_type": "code",
   "execution_count": 15,
   "metadata": {
    "ExecuteTime": {
     "end_time": "2021-05-24T10:27:39.732081Z",
     "start_time": "2021-05-24T10:27:39.716081Z"
    }
   },
   "outputs": [],
   "source": [
    "data['Duration'] = data['Duration'].astype('Int32')"
   ]
  },
  {
   "cell_type": "code",
   "execution_count": 16,
   "metadata": {
    "ExecuteTime": {
     "end_time": "2021-05-24T10:27:40.369310Z",
     "start_time": "2021-05-24T10:27:40.345313Z"
    }
   },
   "outputs": [
    {
     "data": {
      "text/html": [
       "<div>\n",
       "<style scoped>\n",
       "    .dataframe tbody tr th:only-of-type {\n",
       "        vertical-align: middle;\n",
       "    }\n",
       "\n",
       "    .dataframe tbody tr th {\n",
       "        vertical-align: top;\n",
       "    }\n",
       "\n",
       "    .dataframe thead th {\n",
       "        text-align: right;\n",
       "    }\n",
       "</style>\n",
       "<table border=\"1\" class=\"dataframe\">\n",
       "  <thead>\n",
       "    <tr style=\"text-align: right;\">\n",
       "      <th></th>\n",
       "      <th>Booking ID</th>\n",
       "      <th>Journey Date</th>\n",
       "      <th>Pickup Time</th>\n",
       "      <th>Dropoff Time</th>\n",
       "      <th>Booking Status</th>\n",
       "      <th>Pickup Address from Google Map</th>\n",
       "      <th>Destination Address from Google Map</th>\n",
       "      <th>Pickup Time Slot</th>\n",
       "      <th>Duration</th>\n",
       "    </tr>\n",
       "  </thead>\n",
       "  <tbody>\n",
       "    <tr>\n",
       "      <th>2</th>\n",
       "      <td>AD-1136</td>\n",
       "      <td>2021-03-01</td>\n",
       "      <td>1900-01-01 04:28:00</td>\n",
       "      <td>1900-01-01 05:30:00</td>\n",
       "      <td>Confirmed</td>\n",
       "      <td>357A Admiralty Dr, Block 357A, Singapore 751357</td>\n",
       "      <td>Beach Station, Singapore</td>\n",
       "      <td>4:30AM</td>\n",
       "      <td>62</td>\n",
       "    </tr>\n",
       "    <tr>\n",
       "      <th>6</th>\n",
       "      <td>AD-1255</td>\n",
       "      <td>2021-03-01</td>\n",
       "      <td>1900-01-01 04:48:00</td>\n",
       "      <td>1900-01-01 05:30:00</td>\n",
       "      <td>Confirmed</td>\n",
       "      <td>666B Jurong West Street 65, Block 666B, Singap...</td>\n",
       "      <td>Beach Station, Singapore</td>\n",
       "      <td>5:00AM</td>\n",
       "      <td>42</td>\n",
       "    </tr>\n",
       "    <tr>\n",
       "      <th>7</th>\n",
       "      <td>AD-1279</td>\n",
       "      <td>2021-03-01</td>\n",
       "      <td>1900-01-01 04:56:00</td>\n",
       "      <td>1900-01-01 05:30:00</td>\n",
       "      <td>Confirmed</td>\n",
       "      <td>683c Edgedale Plains, Singapore 821669</td>\n",
       "      <td>Beach Station, Singapore</td>\n",
       "      <td>5:00AM</td>\n",
       "      <td>34</td>\n",
       "    </tr>\n",
       "    <tr>\n",
       "      <th>8</th>\n",
       "      <td>AD-1284</td>\n",
       "      <td>2021-03-01</td>\n",
       "      <td>1900-01-01 04:55:00</td>\n",
       "      <td>1900-01-01 05:30:00</td>\n",
       "      <td>Confirmed</td>\n",
       "      <td>986A Jurong West Street 93, Block 986A, Singap...</td>\n",
       "      <td>Beach Station, Singapore</td>\n",
       "      <td>5:00AM</td>\n",
       "      <td>35</td>\n",
       "    </tr>\n",
       "    <tr>\n",
       "      <th>9</th>\n",
       "      <td>AD-1285</td>\n",
       "      <td>2021-03-01</td>\n",
       "      <td>1900-01-01 05:17:00</td>\n",
       "      <td>1900-01-01 05:30:00</td>\n",
       "      <td>Confirmed</td>\n",
       "      <td>93A Telok Blangah Street 31, Singapore 101093</td>\n",
       "      <td>Beach Station, Singapore</td>\n",
       "      <td>5:30AM</td>\n",
       "      <td>13</td>\n",
       "    </tr>\n",
       "  </tbody>\n",
       "</table>\n",
       "</div>"
      ],
      "text/plain": [
       "  Booking ID Journey Date         Pickup Time        Dropoff Time  \\\n",
       "2    AD-1136   2021-03-01 1900-01-01 04:28:00 1900-01-01 05:30:00   \n",
       "6    AD-1255   2021-03-01 1900-01-01 04:48:00 1900-01-01 05:30:00   \n",
       "7    AD-1279   2021-03-01 1900-01-01 04:56:00 1900-01-01 05:30:00   \n",
       "8    AD-1284   2021-03-01 1900-01-01 04:55:00 1900-01-01 05:30:00   \n",
       "9    AD-1285   2021-03-01 1900-01-01 05:17:00 1900-01-01 05:30:00   \n",
       "\n",
       "  Booking Status                     Pickup Address from Google Map  \\\n",
       "2      Confirmed    357A Admiralty Dr, Block 357A, Singapore 751357   \n",
       "6      Confirmed  666B Jurong West Street 65, Block 666B, Singap...   \n",
       "7      Confirmed             683c Edgedale Plains, Singapore 821669   \n",
       "8      Confirmed  986A Jurong West Street 93, Block 986A, Singap...   \n",
       "9      Confirmed      93A Telok Blangah Street 31, Singapore 101093   \n",
       "\n",
       "  Destination Address from Google Map Pickup Time Slot  Duration  \n",
       "2            Beach Station, Singapore           4:30AM        62  \n",
       "6            Beach Station, Singapore           5:00AM        42  \n",
       "7            Beach Station, Singapore           5:00AM        34  \n",
       "8            Beach Station, Singapore           5:00AM        35  \n",
       "9            Beach Station, Singapore           5:30AM        13  "
      ]
     },
     "execution_count": 16,
     "metadata": {},
     "output_type": "execute_result"
    }
   ],
   "source": [
    "data.head()"
   ]
  },
  {
   "cell_type": "code",
   "execution_count": 17,
   "metadata": {
    "ExecuteTime": {
     "end_time": "2021-05-24T10:27:44.723984Z",
     "start_time": "2021-05-24T10:27:44.714078Z"
    }
   },
   "outputs": [
    {
     "data": {
      "text/plain": [
       "Confirmed    568\n",
       "Name: Booking Status, dtype: int64"
      ]
     },
     "execution_count": 17,
     "metadata": {},
     "output_type": "execute_result"
    }
   ],
   "source": [
    "data['Booking Status'].value_counts()"
   ]
  },
  {
   "cell_type": "markdown",
   "metadata": {},
   "source": [
    "**Only 'Confirmed' bookings are included for processing.**"
   ]
  },
  {
   "cell_type": "markdown",
   "metadata": {},
   "source": [
    "### Create Journey Feature\n",
    "The 'Pickup Address' and 'Destination Address' are used to create the new feature 'Journey'."
   ]
  },
  {
   "cell_type": "code",
   "execution_count": 18,
   "metadata": {
    "ExecuteTime": {
     "end_time": "2021-05-24T10:27:49.026395Z",
     "start_time": "2021-05-24T10:27:49.017397Z"
    }
   },
   "outputs": [],
   "source": [
    "# Create journey pairs\n",
    "data['Pickup Destination Pairs'] = data['Pickup Address from Google Map'] + \" TO \" + data['Destination Address from Google Map']"
   ]
  },
  {
   "cell_type": "code",
   "execution_count": 19,
   "metadata": {
    "ExecuteTime": {
     "end_time": "2021-05-24T10:27:49.463091Z",
     "start_time": "2021-05-24T10:27:49.442095Z"
    }
   },
   "outputs": [
    {
     "data": {
      "text/plain": [
       "Pickup Destination Pairs                                                              Duration\n",
       "109 Whampoa Rd, Block 109, Singapore 321109 TO 1 HarbourFront Walk, Singapore 098585  20          2\n",
       "111 Gangsa Rd, Block 111, Singapore 670111 TO 1 HarbourFront Walk, Singapore 098585   30          1\n",
       "                                                                                      40          1\n",
       "                                                                                      43          2\n",
       "                                                                                      46          1\n",
       "                                                                                                 ..\n",
       "Beach Station, Singapore TO 93A Telok Blangah Street 31, Singapore 101093             20          1\n",
       "Beach Station, Singapore TO 986A Jurong West Street 93, Block 986A, Singapore 641986  42          1\n",
       "                                                                                      54          2\n",
       "Singapore 520133 TO Beach Station, Singapore                                          36          2\n",
       "                                                                                      59          1\n",
       "Length: 370, dtype: int64"
      ]
     },
     "execution_count": 19,
     "metadata": {},
     "output_type": "execute_result"
    }
   ],
   "source": [
    "# Do the same journeys have different durations\n",
    "data.groupby(by=['Pickup Destination Pairs','Duration']).size()"
   ]
  },
  {
   "cell_type": "markdown",
   "metadata": {},
   "source": [
    "**Same journeys have different durations.**<br>\n",
    "e.g. for the journey *'111 Gangsa Rd, Block 111, Singapore 670111 TO 1 HarbourFront Walk, Singapore 098585'*, there are durations under 45 minutes and durations over 45 minutes.<br><br>\n",
    "As each trip journey and each bus total journey cannot exceed 45 minutes, we will split the data into journeys below 45 minutes and journeys above 45 minutes."
   ]
  },
  {
   "cell_type": "code",
   "execution_count": 20,
   "metadata": {
    "ExecuteTime": {
     "end_time": "2021-05-24T10:27:51.911782Z",
     "start_time": "2021-05-24T10:27:51.904830Z"
    }
   },
   "outputs": [],
   "source": [
    "# Split bookings into those taking <=45 mins and those >45 mins\n",
    "data_lt45 = data[data['Duration']<=45]\n",
    "data_gt45 = data[data['Duration']>45]"
   ]
  },
  {
   "cell_type": "code",
   "execution_count": 21,
   "metadata": {
    "ExecuteTime": {
     "end_time": "2021-05-24T10:27:53.144277Z",
     "start_time": "2021-05-24T10:27:53.122653Z"
    }
   },
   "outputs": [
    {
     "name": "stdout",
     "output_type": "stream",
     "text": [
      "Total bookings UNDER 45 minutes:  361\n",
      "Total bookings MORE THAN 45 minutes:  207\n"
     ]
    }
   ],
   "source": [
    "print(\"Total bookings UNDER 45 minutes: \", data_lt45.shape[0])\n",
    "print(\"Total bookings MORE THAN 45 minutes: \", data_gt45.shape[0])"
   ]
  },
  {
   "cell_type": "code",
   "execution_count": 22,
   "metadata": {
    "ExecuteTime": {
     "end_time": "2021-05-24T10:27:53.537121Z",
     "start_time": "2021-05-24T10:27:53.528122Z"
    }
   },
   "outputs": [],
   "source": [
    "# data_lt45.to_csv('journeys_lt45.csv', index=False)\n",
    "# data_gt45.to_csv('journeys_gt45.csv', index=False)"
   ]
  },
  {
   "cell_type": "markdown",
   "metadata": {},
   "source": [
    "### Get List of IDs"
   ]
  },
  {
   "cell_type": "code",
   "execution_count": 87,
   "metadata": {
    "ExecuteTime": {
     "end_time": "2021-05-24T10:41:08.054446Z",
     "start_time": "2021-05-24T10:41:08.034413Z"
    }
   },
   "outputs": [],
   "source": [
    "def get_booking_list(df, n):\n",
    "    '''\n",
    "    This function takes a dataframe and the number of buses required,\n",
    "    n=1 for journeys below 45 minutes and n=2 for journeys above 45 minutes\n",
    "    '''\n",
    "    # Get list of unique days so that output is given by each day.\n",
    "    days = df['Journey Date'].dt.strftime(\"%m-%d-%Y\").unique()\n",
    "    \n",
    "    add_ids = []\n",
    "    \n",
    "    for day in days:\n",
    "        \n",
    "        # Get list of duration for the day\n",
    "        durations = df[df['Journey Date'].dt.strftime(\"%m-%d-%Y\")==day]['Duration'].unique()   \n",
    "\n",
    "        for duration in durations:\n",
    "            bus_10 = 0\n",
    "            bus_19 = 0\n",
    "            bus_40 = 0\n",
    "            bus_10_ids=[]\n",
    "            bus_19_ids=[]\n",
    "            bus_40_ids=[]\n",
    "            \n",
    "            # Get list of unique journeys, for the day, with this duration\n",
    "            pickup_dest_pairs = df[(df['Journey Date'].dt.strftime(\"%m-%d-%Y\")==day) & \n",
    "                                   (df['Duration']==duration)]['Pickup Destination Pairs'].unique()\n",
    "        \n",
    "            for add in pickup_dest_pairs:\n",
    "                        \n",
    "                # Get list of pickup time slots, for the day, with this duration, for this journey\n",
    "                pickup_time_slots = df[(df['Pickup Destination Pairs']==add) &\n",
    "                                       (df['Journey Date'].dt.strftime(\"%m-%d-%Y\")==day) & \n",
    "                                       (df['Duration']==duration)]['Pickup Time Slot'].unique()\n",
    "                \n",
    "                for timeslot in pickup_time_slots:\n",
    "                    data_ids = df[(df['Pickup Destination Pairs']==add) &\n",
    "                                  (df['Journey Date'].dt.strftime(\"%m-%d-%Y\")==day) &\n",
    "                                  (df['Duration']==duration) &\n",
    "                                  (df['Pickup Time Slot']==timeslot)]\n",
    "                    i = data_ids.shape[0]\n",
    "                    if i > 0:\n",
    "                        result = i // 4\n",
    "                        start = 0\n",
    "                        end = 1\n",
    "                        while result > 0: # more than 4\n",
    "                            bus_40 += n\n",
    "                            bus_40_ids += [id for id in data_ids[start:end]['Booking ID']]\n",
    "                            start += 4\n",
    "                            end += 4\n",
    "                            i -= 4\n",
    "                            result = i // 4\n",
    "                        result = i // 2\n",
    "                        while result > 0: # more than 2\n",
    "                            bus_19 += n\n",
    "                            bus_19_ids += [id for id in data_ids[start:end]['Booking ID']]\n",
    "                            start += 2\n",
    "                            end += 2\n",
    "                            i -= 2\n",
    "                            result = i // 2\n",
    "                        while i > 0: # more than 1\n",
    "                            bus_10 += n\n",
    "                            bus_10_ids += [id for id in data_ids[start:end]['Booking ID']]\n",
    "                            start += 1\n",
    "                            end += 1\n",
    "                            i -= 1    \n",
    "            add_id = {\"date\":day, \"duration\":duration, \"bus_10\":bus_10, \"bus_10_ids\":bus_10_ids, \"bus_19\":bus_19, \"bus_19_ids\":bus_19_ids,\n",
    "                      \"bus_40\":bus_40, \"bus_40_ids\":bus_40_ids}\n",
    "            add_ids += [add_id]\n",
    "    return add_ids"
   ]
  },
  {
   "cell_type": "code",
   "execution_count": 88,
   "metadata": {
    "ExecuteTime": {
     "end_time": "2021-05-24T10:41:09.367593Z",
     "start_time": "2021-05-24T10:41:09.336597Z"
    }
   },
   "outputs": [
    {
     "data": {
      "text/html": [
       "<div>\n",
       "<style scoped>\n",
       "    .dataframe tbody tr th:only-of-type {\n",
       "        vertical-align: middle;\n",
       "    }\n",
       "\n",
       "    .dataframe tbody tr th {\n",
       "        vertical-align: top;\n",
       "    }\n",
       "\n",
       "    .dataframe thead th {\n",
       "        text-align: right;\n",
       "    }\n",
       "</style>\n",
       "<table border=\"1\" class=\"dataframe\">\n",
       "  <thead>\n",
       "    <tr style=\"text-align: right;\">\n",
       "      <th></th>\n",
       "      <th>Booking ID</th>\n",
       "      <th>Journey Date</th>\n",
       "      <th>Pickup Time</th>\n",
       "      <th>Dropoff Time</th>\n",
       "      <th>Booking Status</th>\n",
       "      <th>Pickup Address from Google Map</th>\n",
       "      <th>Destination Address from Google Map</th>\n",
       "      <th>Pickup Time Slot</th>\n",
       "      <th>Duration</th>\n",
       "      <th>Pickup Destination Pairs</th>\n",
       "    </tr>\n",
       "  </thead>\n",
       "  <tbody>\n",
       "    <tr>\n",
       "      <th>6</th>\n",
       "      <td>AD-1255</td>\n",
       "      <td>2021-03-01</td>\n",
       "      <td>1900-01-01 04:48:00</td>\n",
       "      <td>1900-01-01 05:30:00</td>\n",
       "      <td>Confirmed</td>\n",
       "      <td>666B Jurong West Street 65, Block 666B, Singap...</td>\n",
       "      <td>Beach Station, Singapore</td>\n",
       "      <td>5:00AM</td>\n",
       "      <td>42</td>\n",
       "      <td>666B Jurong West Street 65, Block 666B, Singap...</td>\n",
       "    </tr>\n",
       "    <tr>\n",
       "      <th>7</th>\n",
       "      <td>AD-1279</td>\n",
       "      <td>2021-03-01</td>\n",
       "      <td>1900-01-01 04:56:00</td>\n",
       "      <td>1900-01-01 05:30:00</td>\n",
       "      <td>Confirmed</td>\n",
       "      <td>683c Edgedale Plains, Singapore 821669</td>\n",
       "      <td>Beach Station, Singapore</td>\n",
       "      <td>5:00AM</td>\n",
       "      <td>34</td>\n",
       "      <td>683c Edgedale Plains, Singapore 821669 TO Beac...</td>\n",
       "    </tr>\n",
       "    <tr>\n",
       "      <th>8</th>\n",
       "      <td>AD-1284</td>\n",
       "      <td>2021-03-01</td>\n",
       "      <td>1900-01-01 04:55:00</td>\n",
       "      <td>1900-01-01 05:30:00</td>\n",
       "      <td>Confirmed</td>\n",
       "      <td>986A Jurong West Street 93, Block 986A, Singap...</td>\n",
       "      <td>Beach Station, Singapore</td>\n",
       "      <td>5:00AM</td>\n",
       "      <td>35</td>\n",
       "      <td>986A Jurong West Street 93, Block 986A, Singap...</td>\n",
       "    </tr>\n",
       "    <tr>\n",
       "      <th>9</th>\n",
       "      <td>AD-1285</td>\n",
       "      <td>2021-03-01</td>\n",
       "      <td>1900-01-01 05:17:00</td>\n",
       "      <td>1900-01-01 05:30:00</td>\n",
       "      <td>Confirmed</td>\n",
       "      <td>93A Telok Blangah Street 31, Singapore 101093</td>\n",
       "      <td>Beach Station, Singapore</td>\n",
       "      <td>5:30AM</td>\n",
       "      <td>13</td>\n",
       "      <td>93A Telok Blangah Street 31, Singapore 101093 ...</td>\n",
       "    </tr>\n",
       "    <tr>\n",
       "      <th>12</th>\n",
       "      <td>AD-828</td>\n",
       "      <td>2021-03-01</td>\n",
       "      <td>1900-01-01 00:30:00</td>\n",
       "      <td>1900-01-01 00:57:00</td>\n",
       "      <td>Confirmed</td>\n",
       "      <td>Beach Station, Singapore</td>\n",
       "      <td>769 Bedok Reservoir View, Block 769, Singapore...</td>\n",
       "      <td>0:30AM</td>\n",
       "      <td>27</td>\n",
       "      <td>Beach Station, Singapore TO 769 Bedok Reservoi...</td>\n",
       "    </tr>\n",
       "  </tbody>\n",
       "</table>\n",
       "</div>"
      ],
      "text/plain": [
       "   Booking ID Journey Date         Pickup Time        Dropoff Time  \\\n",
       "6     AD-1255   2021-03-01 1900-01-01 04:48:00 1900-01-01 05:30:00   \n",
       "7     AD-1279   2021-03-01 1900-01-01 04:56:00 1900-01-01 05:30:00   \n",
       "8     AD-1284   2021-03-01 1900-01-01 04:55:00 1900-01-01 05:30:00   \n",
       "9     AD-1285   2021-03-01 1900-01-01 05:17:00 1900-01-01 05:30:00   \n",
       "12     AD-828   2021-03-01 1900-01-01 00:30:00 1900-01-01 00:57:00   \n",
       "\n",
       "   Booking Status                     Pickup Address from Google Map  \\\n",
       "6       Confirmed  666B Jurong West Street 65, Block 666B, Singap...   \n",
       "7       Confirmed             683c Edgedale Plains, Singapore 821669   \n",
       "8       Confirmed  986A Jurong West Street 93, Block 986A, Singap...   \n",
       "9       Confirmed      93A Telok Blangah Street 31, Singapore 101093   \n",
       "12      Confirmed                           Beach Station, Singapore   \n",
       "\n",
       "                  Destination Address from Google Map Pickup Time Slot  \\\n",
       "6                            Beach Station, Singapore           5:00AM   \n",
       "7                            Beach Station, Singapore           5:00AM   \n",
       "8                            Beach Station, Singapore           5:00AM   \n",
       "9                            Beach Station, Singapore           5:30AM   \n",
       "12  769 Bedok Reservoir View, Block 769, Singapore...           0:30AM   \n",
       "\n",
       "    Duration                           Pickup Destination Pairs  \n",
       "6         42  666B Jurong West Street 65, Block 666B, Singap...  \n",
       "7         34  683c Edgedale Plains, Singapore 821669 TO Beac...  \n",
       "8         35  986A Jurong West Street 93, Block 986A, Singap...  \n",
       "9         13  93A Telok Blangah Street 31, Singapore 101093 ...  \n",
       "12        27  Beach Station, Singapore TO 769 Bedok Reservoi...  "
      ]
     },
     "execution_count": 88,
     "metadata": {},
     "output_type": "execute_result"
    }
   ],
   "source": [
    "data_lt45.head(5)"
   ]
  },
  {
   "cell_type": "code",
   "execution_count": 89,
   "metadata": {
    "ExecuteTime": {
     "end_time": "2021-05-24T10:41:15.989638Z",
     "start_time": "2021-05-24T10:41:10.789495Z"
    }
   },
   "outputs": [],
   "source": [
    "lt_45 = get_booking_list(data_lt45, 1)"
   ]
  },
  {
   "cell_type": "code",
   "execution_count": 90,
   "metadata": {
    "ExecuteTime": {
     "end_time": "2021-05-24T10:41:16.005522Z",
     "start_time": "2021-05-24T10:41:15.991521Z"
    }
   },
   "outputs": [
    {
     "data": {
      "text/plain": [
       "303"
      ]
     },
     "execution_count": 90,
     "metadata": {},
     "output_type": "execute_result"
    }
   ],
   "source": [
    "df_lt45 = pd.DataFrame.from_dict(lt_45).set_index(['date', 'duration'])\n",
    "df_lt45.shape[0]"
   ]
  },
  {
   "cell_type": "code",
   "execution_count": 91,
   "metadata": {
    "ExecuteTime": {
     "end_time": "2021-05-24T10:41:19.851393Z",
     "start_time": "2021-05-24T10:41:17.575310Z"
    }
   },
   "outputs": [],
   "source": [
    "gt_45 = get_booking_list(data_gt45, 2)"
   ]
  },
  {
   "cell_type": "code",
   "execution_count": 92,
   "metadata": {
    "ExecuteTime": {
     "end_time": "2021-05-24T10:41:19.867431Z",
     "start_time": "2021-05-24T10:41:19.853428Z"
    }
   },
   "outputs": [
    {
     "data": {
      "text/plain": [
       "188"
      ]
     },
     "execution_count": 92,
     "metadata": {},
     "output_type": "execute_result"
    }
   ],
   "source": [
    "df_gt45 = pd.DataFrame.from_dict(gt_45).set_index(['date', 'duration'])\n",
    "df_gt45.shape[0]"
   ]
  },
  {
   "cell_type": "code",
   "execution_count": 93,
   "metadata": {
    "ExecuteTime": {
     "end_time": "2021-05-24T10:41:20.678496Z",
     "start_time": "2021-05-24T10:41:20.669496Z"
    }
   },
   "outputs": [],
   "source": [
    "df_final = pd.concat([df_lt45, df_gt45])"
   ]
  },
  {
   "cell_type": "code",
   "execution_count": 94,
   "metadata": {
    "ExecuteTime": {
     "end_time": "2021-05-24T10:41:20.989013Z",
     "start_time": "2021-05-24T10:41:20.976018Z"
    }
   },
   "outputs": [],
   "source": [
    "df_final.sort_index(inplace=True)"
   ]
  },
  {
   "cell_type": "code",
   "execution_count": 95,
   "metadata": {
    "ExecuteTime": {
     "end_time": "2021-05-24T10:41:21.849546Z",
     "start_time": "2021-05-24T10:41:21.826530Z"
    }
   },
   "outputs": [
    {
     "data": {
      "text/html": [
       "<div>\n",
       "<style scoped>\n",
       "    .dataframe tbody tr th:only-of-type {\n",
       "        vertical-align: middle;\n",
       "    }\n",
       "\n",
       "    .dataframe tbody tr th {\n",
       "        vertical-align: top;\n",
       "    }\n",
       "\n",
       "    .dataframe thead th {\n",
       "        text-align: right;\n",
       "    }\n",
       "</style>\n",
       "<table border=\"1\" class=\"dataframe\">\n",
       "  <thead>\n",
       "    <tr style=\"text-align: right;\">\n",
       "      <th></th>\n",
       "      <th></th>\n",
       "      <th>bus_10</th>\n",
       "      <th>bus_10_ids</th>\n",
       "      <th>bus_19</th>\n",
       "      <th>bus_19_ids</th>\n",
       "      <th>bus_40</th>\n",
       "      <th>bus_40_ids</th>\n",
       "    </tr>\n",
       "    <tr>\n",
       "      <th>date</th>\n",
       "      <th>duration</th>\n",
       "      <th></th>\n",
       "      <th></th>\n",
       "      <th></th>\n",
       "      <th></th>\n",
       "      <th></th>\n",
       "      <th></th>\n",
       "    </tr>\n",
       "  </thead>\n",
       "  <tbody>\n",
       "    <tr>\n",
       "      <th rowspan=\"10\" valign=\"top\">03-01-2021</th>\n",
       "      <th>13</th>\n",
       "      <td>1</td>\n",
       "      <td>[AD-1285]</td>\n",
       "      <td>0</td>\n",
       "      <td>[]</td>\n",
       "      <td>0</td>\n",
       "      <td>[]</td>\n",
       "    </tr>\n",
       "    <tr>\n",
       "      <th>17</th>\n",
       "      <td>1</td>\n",
       "      <td>[AD-1278]</td>\n",
       "      <td>0</td>\n",
       "      <td>[]</td>\n",
       "      <td>0</td>\n",
       "      <td>[]</td>\n",
       "    </tr>\n",
       "    <tr>\n",
       "      <th>19</th>\n",
       "      <td>1</td>\n",
       "      <td>[AD-1308]</td>\n",
       "      <td>0</td>\n",
       "      <td>[]</td>\n",
       "      <td>0</td>\n",
       "      <td>[]</td>\n",
       "    </tr>\n",
       "    <tr>\n",
       "      <th>27</th>\n",
       "      <td>1</td>\n",
       "      <td>[AD-828]</td>\n",
       "      <td>0</td>\n",
       "      <td>[]</td>\n",
       "      <td>0</td>\n",
       "      <td>[]</td>\n",
       "    </tr>\n",
       "    <tr>\n",
       "      <th>30</th>\n",
       "      <td>1</td>\n",
       "      <td>[AD-1310]</td>\n",
       "      <td>0</td>\n",
       "      <td>[]</td>\n",
       "      <td>0</td>\n",
       "      <td>[]</td>\n",
       "    </tr>\n",
       "    <tr>\n",
       "      <th>34</th>\n",
       "      <td>1</td>\n",
       "      <td>[AD-1279]</td>\n",
       "      <td>0</td>\n",
       "      <td>[]</td>\n",
       "      <td>0</td>\n",
       "      <td>[]</td>\n",
       "    </tr>\n",
       "    <tr>\n",
       "      <th>35</th>\n",
       "      <td>1</td>\n",
       "      <td>[AD-1284]</td>\n",
       "      <td>0</td>\n",
       "      <td>[]</td>\n",
       "      <td>0</td>\n",
       "      <td>[]</td>\n",
       "    </tr>\n",
       "    <tr>\n",
       "      <th>36</th>\n",
       "      <td>2</td>\n",
       "      <td>[AD-1271, AD-1281]</td>\n",
       "      <td>0</td>\n",
       "      <td>[]</td>\n",
       "      <td>0</td>\n",
       "      <td>[]</td>\n",
       "    </tr>\n",
       "    <tr>\n",
       "      <th>37</th>\n",
       "      <td>1</td>\n",
       "      <td>[AD-1108]</td>\n",
       "      <td>0</td>\n",
       "      <td>[]</td>\n",
       "      <td>0</td>\n",
       "      <td>[]</td>\n",
       "    </tr>\n",
       "    <tr>\n",
       "      <th>41</th>\n",
       "      <td>1</td>\n",
       "      <td>[AD-1296]</td>\n",
       "      <td>0</td>\n",
       "      <td>[]</td>\n",
       "      <td>0</td>\n",
       "      <td>[]</td>\n",
       "    </tr>\n",
       "  </tbody>\n",
       "</table>\n",
       "</div>"
      ],
      "text/plain": [
       "                     bus_10          bus_10_ids  bus_19 bus_19_ids  bus_40  \\\n",
       "date       duration                                                          \n",
       "03-01-2021 13             1           [AD-1285]       0         []       0   \n",
       "           17             1           [AD-1278]       0         []       0   \n",
       "           19             1           [AD-1308]       0         []       0   \n",
       "           27             1            [AD-828]       0         []       0   \n",
       "           30             1           [AD-1310]       0         []       0   \n",
       "           34             1           [AD-1279]       0         []       0   \n",
       "           35             1           [AD-1284]       0         []       0   \n",
       "           36             2  [AD-1271, AD-1281]       0         []       0   \n",
       "           37             1           [AD-1108]       0         []       0   \n",
       "           41             1           [AD-1296]       0         []       0   \n",
       "\n",
       "                    bus_40_ids  \n",
       "date       duration             \n",
       "03-01-2021 13               []  \n",
       "           17               []  \n",
       "           19               []  \n",
       "           27               []  \n",
       "           30               []  \n",
       "           34               []  \n",
       "           35               []  \n",
       "           36               []  \n",
       "           37               []  \n",
       "           41               []  "
      ]
     },
     "execution_count": 95,
     "metadata": {},
     "output_type": "execute_result"
    }
   ],
   "source": [
    "df_final.head(10)"
   ]
  },
  {
   "cell_type": "code",
   "execution_count": 96,
   "metadata": {
    "ExecuteTime": {
     "end_time": "2021-05-24T10:41:25.741809Z",
     "start_time": "2021-05-24T10:41:25.729812Z"
    }
   },
   "outputs": [],
   "source": [
    "def print_out(df):\n",
    "    '''\n",
    "    This function takes in the final dataframe and outputs in the format required\n",
    "    '''\n",
    "    buses = [\"10\", \"19\", \"40\"]\n",
    "    journey_dates = []\n",
    "    type_of_bus = []\n",
    "    total_journey_time = []\n",
    "    booking_ids = []\n",
    "    \n",
    "    for index, row in df.iterrows():\n",
    "        for bus in range(len(buses)):\n",
    "            if row[\"bus_\" + buses[bus]] > 0:\n",
    "                journey_dates.append(index[0])\n",
    "                type_of_bus.append(buses[bus])\n",
    "                total_journey_time.append(str(index[1]))\n",
    "                booking_ids.append(row[\"bus_\" + buses[bus] + \"_ids\"])\n",
    "                \n",
    "    return pd.DataFrame({\"Journey_Date\":journey_dates, \"Type_of_Bus_10_19_40_seaters\":type_of_bus, \n",
    "                         \"Total_Journey_Time_In_Minutes\":total_journey_time,\n",
    "                         \"Array_Of_Booking_IDs_To_Board_The_Bus\":booking_ids})"
   ]
  },
  {
   "cell_type": "code",
   "execution_count": 97,
   "metadata": {
    "ExecuteTime": {
     "end_time": "2021-05-24T10:41:26.820891Z",
     "start_time": "2021-05-24T10:41:26.762806Z"
    }
   },
   "outputs": [],
   "source": [
    "df_output = print_out(df_final)"
   ]
  },
  {
   "cell_type": "code",
   "execution_count": 98,
   "metadata": {
    "ExecuteTime": {
     "end_time": "2021-05-24T10:41:27.103116Z",
     "start_time": "2021-05-24T10:41:27.083149Z"
    }
   },
   "outputs": [],
   "source": [
    "df_output['Journey_Date'] = pd.to_datetime(df_output['Journey_Date']).dt.strftime('%d %b %Y')"
   ]
  },
  {
   "cell_type": "code",
   "execution_count": 100,
   "metadata": {
    "ExecuteTime": {
     "end_time": "2021-05-24T10:44:34.739468Z",
     "start_time": "2021-05-24T10:44:33.595052Z"
    }
   },
   "outputs": [],
   "source": [
    "df_output.to_excel(\"output_plan.xlsx\", index=False)"
   ]
  },
  {
   "cell_type": "code",
   "execution_count": null,
   "metadata": {},
   "outputs": [],
   "source": []
  }
 ],
 "metadata": {
  "kernelspec": {
   "display_name": "Python 3",
   "language": "python",
   "name": "python3"
  },
  "language_info": {
   "codemirror_mode": {
    "name": "ipython",
    "version": 3
   },
   "file_extension": ".py",
   "mimetype": "text/x-python",
   "name": "python",
   "nbconvert_exporter": "python",
   "pygments_lexer": "ipython3",
   "version": "3.8.5"
  },
  "toc": {
   "base_numbering": 1,
   "nav_menu": {},
   "number_sections": false,
   "sideBar": false,
   "skip_h1_title": false,
   "title_cell": "Table of Contents",
   "title_sidebar": "Contents",
   "toc_cell": false,
   "toc_position": {},
   "toc_section_display": true,
   "toc_window_display": false
  }
 },
 "nbformat": 4,
 "nbformat_minor": 4
}
